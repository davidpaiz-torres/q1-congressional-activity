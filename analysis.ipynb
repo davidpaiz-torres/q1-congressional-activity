{
 "cells": [
  {
   "cell_type": "markdown",
   "metadata": {},
   "source": [
    "Import database file, define variables, etc"
   ]
  },
  {
   "cell_type": "code",
   "execution_count": 2,
   "metadata": {},
   "outputs": [],
   "source": [
    "import sqlite3\n",
    "import pandas as pd\n",
    "\n",
    "# Connect to the SQLite database\n",
    "conn = sqlite3.connect('cache.db')\n",
    "\n",
    "# Load the bills table into a DataFrame\n",
    "bills_data = pd.read_sql_query(\"SELECT * FROM bills;\", conn)\n",
    "\n",
    "# Close the database connection\n",
    "conn.close()\n"
   ]
  },
  {
   "cell_type": "markdown",
   "metadata": {},
   "source": [
    "Calculations + Sorting"
   ]
  },
  {
   "cell_type": "code",
   "execution_count": 3,
   "metadata": {},
   "outputs": [
    {
     "name": "stdout",
     "output_type": "stream",
     "text": [
      "   action_date  count\n",
      "0   2025-02-27    181\n",
      "1   2025-01-03    179\n",
      "2   2025-03-11    161\n",
      "3   2025-02-13    143\n",
      "4   2025-03-05    141\n",
      "5   2025-02-06    135\n",
      "6   2025-03-06    124\n",
      "7   2025-01-16    124\n",
      "8   2025-02-05    121\n",
      "9   2025-03-14    117\n",
      "10  2025-01-23    111\n",
      "11  2025-01-09    109\n",
      "12  2025-02-12    107\n",
      "13  2025-02-04    103\n",
      "14  2025-03-10     96\n",
      "15  2025-01-28     95\n",
      "16  2025-02-26     91\n",
      "17  2025-02-11     90\n",
      "18  2025-02-25     88\n",
      "19  2025-03-18     87\n",
      "20  2025-03-04     79\n",
      "21  2025-03-03     75\n",
      "22  2025-01-15     75\n",
      "23  2025-01-31     74\n",
      "24  2025-01-22     73\n",
      "25  2025-02-21     72\n",
      "26  2025-03-12     66\n",
      "27  2025-03-21     63\n",
      "29  2025-02-18     62\n",
      "28  2025-01-13     62\n",
      "30  2025-03-13     60\n",
      "31  2025-02-24     59\n",
      "32  2025-02-14     54\n",
      "33  2025-02-20     54\n",
      "34  2025-01-14     48\n",
      "35  2025-02-07     47\n",
      "36  2025-02-10     46\n",
      "37  2025-01-21     46\n",
      "38  2025-01-24     43\n",
      "39  2025-01-29     38\n",
      "40  2025-01-07     34\n",
      "41  2025-01-30     30\n",
      "42  2025-02-03     26\n",
      "43  2025-02-19     18\n",
      "44  2025-02-28     15\n",
      "45  2025-01-20     14\n",
      "46  2025-01-06     12\n",
      "47  2025-03-20      9\n",
      "48  2025-01-17      9\n",
      "49  2025-02-01      9\n",
      "50  2025-03-07      9\n",
      "51  2025-01-10      9\n",
      "52  2025-01-08      9\n",
      "53  2025-01-27      7\n",
      "54  2025-01-04      6\n",
      "55  2025-01-25      2\n",
      "56  2025-01-19      1\n",
      "57  2025-03-15      1\n"
     ]
    }
   ],
   "source": [
    "activity_counts = bills_data['action_date'].value_counts().reset_index()\n",
    "activity_counts.columns = ['action_date', 'count']\n",
    "activity_counts = activity_counts.sort_values(by='count', ascending=False)\n",
    "\n",
    "print(activity_counts)\n",
    "\n",
    "# Close the connection\n",
    "conn.close()\n"
   ]
  },
  {
   "cell_type": "markdown",
   "metadata": {},
   "source": [
    "Median Actions Per day (Calculations pt 2)"
   ]
  },
  {
   "cell_type": "code",
   "execution_count": 13,
   "metadata": {},
   "outputs": [
    {
     "name": "stdout",
     "output_type": "stream",
     "text": [
      "Median count across all dates: 62.0\n"
     ]
    }
   ],
   "source": [
    "overall_median = activity_counts['count'].median()\n",
    "print(\"Median count across all dates:\", overall_median)\n"
   ]
  },
  {
   "cell_type": "markdown",
   "metadata": {},
   "source": [
    "Filter actions by specific dates"
   ]
  },
  {
   "cell_type": "code",
   "execution_count": 12,
   "metadata": {},
   "outputs": [
    {
     "name": "stdout",
     "output_type": "stream",
     "text": [
      "     bill_type bill_number                                              title  \\\n",
      "239         hr         695                                 Medal of Honor Act   \n",
      "240         hr         469  Semiquincentennial Congressional Time Capsule Act   \n",
      "241         hr         250  To direct the Joint Committee on the Library t...   \n",
      "242         hr        1745  To amend the Internal Revenue Code of 1986 to ...   \n",
      "243         hr        1712  To amend chapter 131 of title 5, United States...   \n",
      "...        ...         ...                                                ...   \n",
      "3162      sres         104  A resolution designating February 27, 2025, as...   \n",
      "3163      sres          94  An original resolution authorizing expenditure...   \n",
      "3164      sres         103  A resolution condemning the rejection by the U...   \n",
      "3165      sres         102  A resolution to recognize and celebrate the 30...   \n",
      "3166      sres         101  A resolution affirming the threats to world st...   \n",
      "\n",
      "     action_date                                           bill_url  \n",
      "239   2025-02-27  https://www.congress.gov/bill/119th-congress/h...  \n",
      "240   2025-02-27  https://www.congress.gov/bill/119th-congress/h...  \n",
      "241   2025-02-27  https://www.congress.gov/bill/119th-congress/h...  \n",
      "242   2025-02-27  https://www.congress.gov/bill/119th-congress/h...  \n",
      "243   2025-02-27  https://www.congress.gov/bill/119th-congress/h...  \n",
      "...          ...                                                ...  \n",
      "3162  2025-02-27  https://www.congress.gov/bill/119th-congress/s...  \n",
      "3163  2025-02-27  https://www.congress.gov/bill/119th-congress/s...  \n",
      "3164  2025-02-27  https://www.congress.gov/bill/119th-congress/s...  \n",
      "3165  2025-02-27  https://www.congress.gov/bill/119th-congress/s...  \n",
      "3166  2025-02-27  https://www.congress.gov/bill/119th-congress/s...  \n",
      "\n",
      "[181 rows x 5 columns]\n"
     ]
    }
   ],
   "source": [
    "specific_date = '2025-02-27'\n",
    "filtered_bills = bills_data[bills_data['action_date'] == specific_date]\n",
    "\n",
    "print(filtered_bills)\n"
   ]
  },
  {
   "cell_type": "markdown",
   "metadata": {},
   "source": [
    "Export Data to Json file to create D3 Graphic\n"
   ]
  },
  {
   "cell_type": "code",
   "execution_count": null,
   "metadata": {},
   "outputs": [],
   "source": [
    "import json\n",
    "\n",
    "conn = sqlite3.connect('cache.db')\n",
    "\n",
    "\n",
    "tables_df = pd.read_sql_query(\"SELECT name FROM sqlite_master WHERE type='table';\", conn)\n",
    "table_names = tables_df['name'].tolist()\n",
    "\n",
    "all_data = {}\n",
    "for table in table_names:\n",
    "    query = f\"SELECT * FROM {table};\"\n",
    "    df = pd.read_sql_query(query, conn)\n",
    "    all_data[table] = df.to_dict(orient='records')\n",
    "\n",
    "# Save the complete data to a JSON file\n",
    "with open('all_data.json', 'w') as f:\n",
    "    json.dump(all_data, f, indent=2)\n",
    "\n",
    "conn.close()\n"
   ]
  }
 ],
 "metadata": {
  "kernelspec": {
   "display_name": "base",
   "language": "python",
   "name": "python3"
  },
  "language_info": {
   "codemirror_mode": {
    "name": "ipython",
    "version": 3
   },
   "file_extension": ".py",
   "mimetype": "text/x-python",
   "name": "python",
   "nbconvert_exporter": "python",
   "pygments_lexer": "ipython3",
   "version": "3.11.7"
  }
 },
 "nbformat": 4,
 "nbformat_minor": 2
}
